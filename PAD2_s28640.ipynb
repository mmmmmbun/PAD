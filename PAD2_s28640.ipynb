{
 "cells": [
  {
   "cell_type": "code",
   "execution_count": 86,
   "metadata": {
    "collapsed": true,
    "pycharm": {
     "name": "#%%\n"
    }
   },
   "outputs": [],
   "source": [
    "import numpy as np\n",
    "import pandas as pd"
   ]
  },
  {
   "cell_type": "markdown",
   "source": [
    "# Praca domowa"
   ],
   "metadata": {
    "collapsed": false,
    "pycharm": {
     "name": "#%% md\n"
    }
   }
  },
  {
   "cell_type": "markdown",
   "source": [
    "## Zadanie 1"
   ],
   "metadata": {
    "collapsed": false,
    "pycharm": {
     "name": "#%% md\n"
    }
   }
  },
  {
   "cell_type": "code",
   "execution_count": 87,
   "outputs": [],
   "source": [
    "data = pd.read_csv(\"president_heights.csv\")\n",
    "heights = np.array(data[\"height(cm)\"])"
   ],
   "metadata": {
    "collapsed": false,
    "pycharm": {
     "name": "#%%\n"
    }
   }
  },
  {
   "cell_type": "code",
   "execution_count": 88,
   "outputs": [],
   "source": [
    "mean_height = round(np.mean(heights),2)\n",
    "std_dev_height = round(np.std(heights),2)\n",
    "min_height = round(np.min(heights),2)\n",
    "max_height = round(np.max(heights),2)"
   ],
   "metadata": {
    "collapsed": false,
    "pycharm": {
     "name": "#%%\n"
    }
   }
  },
  {
   "cell_type": "code",
   "execution_count": 89,
   "outputs": [
    {
     "name": "stdout",
     "output_type": "stream",
     "text": [
      "Mean height: 179.74 cm\n",
      "Standard deviation: 6.93 cm\n",
      "Minimum height: 163 cm\n",
      "Maximum height: 193 cm\n"
     ]
    }
   ],
   "source": [
    "print(f\"Mean height: {mean_height} cm\")\n",
    "print(f\"Standard deviation: {std_dev_height} cm\")\n",
    "print(f\"Minimum height: {min_height} cm\")\n",
    "print(f\"Maximum height: {max_height} cm\")"
   ],
   "metadata": {
    "collapsed": false,
    "pycharm": {
     "name": "#%%\n"
    }
   }
  },
  {
   "cell_type": "code",
   "execution_count": 90,
   "outputs": [],
   "source": [
    "median_height = round(np.median(heights),2)\n",
    "percentile25 = round(np.quantile(heights, 0.25),2)\n",
    "percentile75 = round(np.quantile(heights, 0.75),2)"
   ],
   "metadata": {
    "collapsed": false,
    "pycharm": {
     "name": "#%%\n"
    }
   }
  },
  {
   "cell_type": "code",
   "execution_count": 91,
   "outputs": [
    {
     "name": "stdout",
     "output_type": "stream",
     "text": [
      "Median: 182.0 cm\n",
      "75th percentile: 183.0 cm\n",
      "25th percentile:  174.25 cm\n"
     ]
    }
   ],
   "source": [
    "print(f\"Median: {median_height} cm\", )\n",
    "print(f\"75th percentile: {percentile75} cm\")\n",
    "print(f\"25th percentile:  {percentile25} cm\", )"
   ],
   "metadata": {
    "collapsed": false,
    "pycharm": {
     "name": "#%%\n"
    }
   }
  },
  {
   "cell_type": "markdown",
   "source": [
    "## Zadanie 2"
   ],
   "metadata": {
    "collapsed": false,
    "pycharm": {
     "name": "#%% md\n"
    }
   }
  },
  {
   "cell_type": "code",
   "execution_count": 92,
   "outputs": [],
   "source": [
    "data_2 = np.genfromtxt(\"Zadanie_2.csv\", delimiter=\";\")"
   ],
   "metadata": {
    "collapsed": false,
    "pycharm": {
     "name": "#%%\n"
    }
   }
  },
  {
   "cell_type": "code",
   "execution_count": 93,
   "outputs": [],
   "source": [
    "wartosci, wektory = np.linalg.eig(data_2)"
   ],
   "metadata": {
    "collapsed": false,
    "pycharm": {
     "name": "#%%\n"
    }
   }
  },
  {
   "cell_type": "code",
   "execution_count": 94,
   "outputs": [
    {
     "data": {
      "text/plain": "array([104.34960192 +0.j        , -23.35660516+18.84992811j,\n       -23.35660516-18.84992811j,  15.92989017 +0.j        ,\n        -4.99456452 +0.j        ,   0.35205717 +5.80125175j,\n         0.35205717 -5.80125175j,  -1.03383491 +0.j        ,\n         3.87900166 +1.42651533j,   3.87900166 -1.42651533j])"
     },
     "execution_count": 94,
     "metadata": {},
     "output_type": "execute_result"
    }
   ],
   "source": [
    "#print(f\"Wartości własne to {wartosci}\")\n",
    "wartosci"
   ],
   "metadata": {
    "collapsed": false,
    "pycharm": {
     "name": "#%%\n"
    }
   }
  },
  {
   "cell_type": "code",
   "execution_count": 95,
   "outputs": [
    {
     "data": {
      "text/plain": "array([[-0.29000475+0.j        , -0.07545445+0.07743149j,\n        -0.07545445-0.07743149j, -0.03544485+0.j        ,\n         0.42681634+0.j        , -0.22172831-0.29869259j,\n        -0.22172831+0.29869259j,  0.41343726+0.j        ,\n        -0.28670255+0.21891569j, -0.28670255-0.21891569j],\n       [-0.24163153+0.j        ,  0.41229621+0.09197324j,\n         0.41229621-0.09197324j,  0.45873475+0.j        ,\n        -0.27056206+0.j        , -0.01331344+0.1422557j ,\n        -0.01331344-0.1422557j , -0.31591047+0.j        ,\n         0.41954481-0.10561864j,  0.41954481+0.10561864j],\n       [-0.41060573+0.j        ,  0.37509638-0.00960818j,\n         0.37509638+0.00960818j,  0.64067986+0.j        ,\n        -0.37967609+0.j        , -0.60525232+0.j        ,\n        -0.60525232-0.j        ,  0.6457768 +0.j        ,\n         0.63631555+0.j        ,  0.63631555-0.j        ],\n       [-0.18899971+0.j        , -0.05624951+0.174848j  ,\n        -0.05624951-0.174848j  ,  0.25174536+0.j        ,\n        -0.07625465+0.j        , -0.14870016-0.00795735j,\n        -0.14870016+0.00795735j,  0.15206852+0.j        ,\n         0.21373907+0.00228636j,  0.21373907-0.00228636j],\n       [-0.42862199+0.j        ,  0.47707538+0.14580554j,\n         0.47707538-0.14580554j,  0.39445834+0.j        ,\n        -0.69542141+0.j        ,  0.07336021-0.43070469j,\n         0.07336021+0.43070469j, -0.25948775+0.j        ,\n         0.20250102-0.00411374j,  0.20250102+0.00411374j],\n       [-0.14730562+0.j        , -0.57352911+0.j        ,\n        -0.57352911-0.j        ,  0.10071325+0.j        ,\n         0.30158403+0.j        , -0.04758838+0.12911829j,\n        -0.04758838-0.12911829j,  0.21274791+0.j        ,\n        -0.1503483 +0.03452906j, -0.1503483 -0.03452906j],\n       [-0.34660607+0.j        , -0.13987374+0.06837303j,\n        -0.13987374-0.06837303j, -0.04800705+0.j        ,\n         0.06798106+0.j        ,  0.00512204+0.04215641j,\n         0.00512204-0.04215641j,  0.05365357+0.j        ,\n        -0.0534517 +0.00550802j, -0.0534517 -0.00550802j],\n       [-0.34919853+0.j        , -0.08414467+0.07749664j,\n        -0.08414467-0.07749664j,  0.25925893+0.j        ,\n        -0.10039982+0.j        , -0.06761437-0.25584347j,\n        -0.06761437+0.25584347j, -0.38214447+0.j        ,\n         0.29485109-0.01300678j,  0.29485109+0.01300678j],\n       [-0.2440048 +0.j        , -0.13777908+0.00402196j,\n        -0.13777908-0.00402196j,  0.27709282+0.j        ,\n        -0.00524365+0.j        ,  0.21866893+0.04463336j,\n         0.21866893-0.04463336j, -0.12045798+0.j        ,\n         0.27558332+0.02285482j,  0.27558332-0.02285482j],\n       [-0.38231403+0.j        , -0.00476199+0.03456836j,\n        -0.00476199-0.03456836j,  0.04918165+0.j        ,\n         0.07322815+0.j        ,  0.1819345 -0.29687727j,\n         0.1819345 +0.29687727j, -0.11445044+0.j        ,\n         0.02830199+0.00579727j,  0.02830199-0.00579727j]])"
     },
     "execution_count": 95,
     "metadata": {},
     "output_type": "execute_result"
    }
   ],
   "source": [
    "#print(f\"a wektory własne to {wektory}\")\n",
    "wektory"
   ],
   "metadata": {
    "collapsed": false,
    "pycharm": {
     "name": "#%%\n"
    }
   }
  },
  {
   "cell_type": "code",
   "execution_count": 96,
   "outputs": [
    {
     "data": {
      "text/plain": "array([[ 0.47461371,  0.13269253, -0.24726695, -0.82965177,  0.28250384,\n        -0.17012825,  0.58274426,  0.83686705,  0.4146721 , -1.56942847],\n       [-0.38032531, -0.11226789,  0.23216372,  0.58853747, -0.2508954 ,\n         0.10174485, -0.40729564, -0.58325689, -0.2335154 ,  1.11832726],\n       [ 0.13559662,  0.58950334, -0.24709855, -0.58789838, -0.30170699,\n        -0.12721938,  0.23740295,  1.01003036, -0.02151387, -0.64590149],\n       [ 0.01425207,  0.14570726, -0.04557569, -0.12721972, -0.08945184,\n        -0.03756624,  0.03910376,  0.23606066, -0.01436771, -0.11345749],\n       [-0.09473246,  0.01725249,  0.19145597,  0.32960274, -0.28626296,\n         0.08348529, -0.37577603, -0.27295934, -0.25855803,  0.74691827],\n       [ 0.16387032,  0.10075684, -0.15404907, -0.29794662,  0.16916877,\n        -0.02827782,  0.20469921,  0.28036265,  0.15086178, -0.5882585 ],\n       [ 0.04288003,  0.02246462, -0.0366803 , -0.09024915,  0.04322146,\n        -0.01047861,  0.06167348,  0.07009721,  0.0367806 , -0.14185925],\n       [-0.26858433, -0.21167346,  0.25168367,  0.55607234, -0.16804333,\n         0.01066975, -0.22435849, -0.52957038, -0.15757224,  0.77302113],\n       [-0.15583541, -0.13041404,  0.0984558 ,  0.3150966 , -0.09916278,\n        -0.04426337, -0.20832614, -0.18404388, -0.04309498,  0.45794224],\n       [-0.05970783, -0.11342903,  0.09122544,  0.11908074, -0.00311646,\n         0.02370807, -0.07526552, -0.06924544, -0.10963836,  0.16553689]])"
     },
     "execution_count": 96,
     "metadata": {},
     "output_type": "execute_result"
    }
   ],
   "source": [
    "macierz_odwrotna = np.linalg.inv(data_2)\n",
    "macierz_odwrotna"
   ],
   "metadata": {
    "collapsed": false,
    "pycharm": {
     "name": "#%%\n"
    }
   }
  },
  {
   "cell_type": "markdown",
   "source": [
    "## Zadanie 3"
   ],
   "metadata": {
    "collapsed": false,
    "pycharm": {
     "name": "#%% md\n"
    }
   }
  },
  {
   "cell_type": "code",
   "execution_count": 97,
   "outputs": [],
   "source": [
    "rainfall = pd.read_csv(\"Seattle2014.csv\")[\"PRCP\"].values\n",
    "inches = rainfall/254 # 1/10mm -> inches"
   ],
   "metadata": {
    "collapsed": false,
    "pycharm": {
     "name": "#%%\n"
    }
   }
  },
  {
   "cell_type": "code",
   "execution_count": 98,
   "outputs": [
    {
     "data": {
      "text/plain": "<Figure size 640x480 with 1 Axes>",
      "image/png": "[encoded data removed]"
     },
     "metadata": {},
     "output_type": "display_data"
    }
   ],
   "source": [
    "import matplotlib.pyplot as plt\n",
    "import seaborn; seaborn.set()  # set plot styles\n",
    "plt.hist(inches, 40);"
   ],
   "metadata": {
    "collapsed": false,
    "pycharm": {
     "name": "#%%\n"
    }
   }
  },
  {
   "cell_type": "code",
   "execution_count": 99,
   "outputs": [],
   "source": [
    "padalo = np.count_nonzero(inches)\n",
    "nie_padalo = (inches == 0).sum()\n",
    "spadlo05 = (inches > 0.5).sum()\n",
    "spadlo02 = np.logical_and(inches<0.5, inches>0).sum()"
   ],
   "metadata": {
    "collapsed": false,
    "pycharm": {
     "name": "#%%\n"
    }
   }
  },
  {
   "cell_type": "code",
   "execution_count": 100,
   "outputs": [
    {
     "name": "stdout",
     "output_type": "stream",
     "text": [
      "Number days without rain: 215\n",
      "Number days with rain: 150\n",
      "Days with more than 0.5 inches: 37 \n",
      "Rainy days with < 0.2 inches: 111\n"
     ]
    }
   ],
   "source": [
    "print(f\"Number days without rain: {nie_padalo}\", )\n",
    "print(f\"Number days with rain: {padalo}\", )\n",
    "print(f\"Days with more than 0.5 inches: {spadlo05} \", )\n",
    "print(f\"Rainy days with < 0.2 inches: {spadlo02}\", )"
   ],
   "metadata": {
    "collapsed": false,
    "pycharm": {
     "name": "#%%\n"
    }
   }
  },
  {
   "cell_type": "code",
   "execution_count": 101,
   "outputs": [],
   "source": [
    "rainfall2 = pd.read_csv(\"Seattle2014.csv\")[[\"PRCP\",\"DATE\"]]\n",
    "rainfall2.DATE = pd.to_datetime(rainfall2.DATE, format='%Y%m%d')\n",
    "rainfall2.PRCP = rainfall2.PRCP/254"
   ],
   "metadata": {
    "collapsed": false,
    "pycharm": {
     "name": "#%%\n"
    }
   }
  },
  {
   "cell_type": "code",
   "execution_count": 102,
   "outputs": [],
   "source": [
    "mx1= np.ma.masked_equal(np.array(rainfall2), 0)\n",
    "median_2014 = round(np.median(mx1.compressed()),2)\n",
    "mx2 = np.ma.masked_outside(rainfall2.index,172,262)\n",
    "sunny_median = np.median(rainfall2[mx2.compressed()])\n",
    "sunny_max = round(np.max(rainfall2[mx2.compressed()]),2)\n",
    "mx3 = np.ma.masked_inside(rainfall2.index,172,262)\n",
    "mx4= np.ma.masked_equal(np.array(rainfall2[mx3.compressed()]), 0)\n",
    "median_not_summer = round(np.median(mx4.compressed()),2)"
   ],
   "metadata": {
    "collapsed": false,
    "pycharm": {
     "name": "#%%\n"
    }
   }
  },
  {
   "cell_type": "code",
   "execution_count": 103,
   "outputs": [
    {
     "name": "stdout",
     "output_type": "stream",
     "text": [
      "Median precip on rainy days in 2014 (inches): 0.19 \n",
      "Median precip on summer days in 2014 (inches): 0.0\n",
      "Maximum precip on summer days in 2014 (inches): 0.85 \n",
      "Median precip on non-summer rainy days (inches): 0.2\n"
     ]
    }
   ],
   "source": [
    "print(f\"Median precip on rainy days in 2014 (inches): {median_2014} \")\n",
    "print(f\"Median precip on summer days in 2014 (inches): {sunny_median}\")\n",
    "print(f\"Maximum precip on summer days in 2014 (inches): {sunny_max} \")\n",
    "print(f\"Median precip on non-summer rainy days (inches): {median_not_summer}\")"
   ],
   "metadata": {
    "collapsed": false,
    "pycharm": {
     "name": "#%%\n"
    }
   }
  },
  {
   "cell_type": "markdown",
   "source": [
    "## Zadanie 4"
   ],
   "metadata": {
    "collapsed": false,
    "pycharm": {
     "name": "#%% md\n"
    }
   }
  },
  {
   "cell_type": "code",
   "execution_count": 104,
   "outputs": [],
   "source": [
    "A = [0,3,2,5]\n",
    "B = [0,3,1,4]"
   ],
   "metadata": {
    "collapsed": false,
    "pycharm": {
     "name": "#%%\n"
    }
   }
  },
  {
   "cell_type": "code",
   "execution_count": 105,
   "outputs": [
    {
     "data": {
      "text/plain": "array([0, 6, 3, 9])"
     },
     "execution_count": 105,
     "metadata": {},
     "output_type": "execute_result"
    }
   ],
   "source": [
    "np.add(A,B)"
   ],
   "metadata": {
    "collapsed": false,
    "pycharm": {
     "name": "#%%\n"
    }
   }
  },
  {
   "cell_type": "code",
   "execution_count": 106,
   "outputs": [
    {
     "data": {
      "text/plain": "array([0, 0, 1, 1])"
     },
     "execution_count": 106,
     "metadata": {},
     "output_type": "execute_result"
    }
   ],
   "source": [
    "np.subtract(A,B)"
   ],
   "metadata": {
    "collapsed": false,
    "pycharm": {
     "name": "#%%\n"
    }
   }
  },
  {
   "cell_type": "code",
   "execution_count": 107,
   "outputs": [
    {
     "data": {
      "text/plain": "array([ 0, 12,  8, 20])"
     },
     "execution_count": 107,
     "metadata": {},
     "output_type": "execute_result"
    }
   ],
   "source": [
    "4*np.array(A)"
   ],
   "metadata": {
    "collapsed": false,
    "pycharm": {
     "name": "#%%\n"
    }
   }
  },
  {
   "cell_type": "code",
   "execution_count": 108,
   "outputs": [
    {
     "data": {
      "text/plain": "31"
     },
     "execution_count": 108,
     "metadata": {},
     "output_type": "execute_result"
    }
   ],
   "source": [
    "np.dot(A,B)"
   ],
   "metadata": {
    "collapsed": false,
    "pycharm": {
     "name": "#%%\n"
    }
   }
  },
  {
   "cell_type": "code",
   "execution_count": 83,
   "outputs": [
    {
     "data": {
      "text/plain": "5.0990195135927845"
     },
     "execution_count": 83,
     "metadata": {},
     "output_type": "execute_result"
    }
   ],
   "source": [
    "np.linalg.norm(B)"
   ],
   "metadata": {
    "collapsed": false,
    "pycharm": {
     "name": "#%%\n"
    }
   }
  }
 ],
 "metadata": {
  "kernelspec": {
   "display_name": "Python 3",
   "language": "python",
   "name": "python3"
  },
  "language_info": {
   "codemirror_mode": {
    "name": "ipython",
    "version": 2
   },
   "file_extension": ".py",
   "mimetype": "text/x-python",
   "name": "python",
   "nbconvert_exporter": "python",
   "pygments_lexer": "ipython2",
   "version": "2.7.6"
  }
 },
 "nbformat": 4,
 "nbformat_minor": 0
}
