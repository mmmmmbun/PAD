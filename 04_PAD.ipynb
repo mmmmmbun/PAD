{
 "nbformat": 4,
 "nbformat_minor": 0,
 "metadata": {
  "colab": {
   "provenance": [],
   "authorship_tag": "ABX9TyM/IEyKrBImMU7q537NwTDt"
  },
  "kernelspec": {
   "name": "python3",
   "display_name": "Python 3"
  },
  "language_info": {
   "name": "python"
  }
 },
 "cells": [
  {
   "cell_type": "markdown",
   "source": [
    "Zadanie 1 (5 pkt)\n",
    "\n",
    "\n",
    "Wgraj zawartość pliku orders.csv do ramki danych.\n",
    "Przyjrzyj się danym, wykorzystując poznane metody (describe, info, head) zanalizuj dane.\n",
    "\n",
    "Następnie:\n",
    "\n",
    "\n",
    "\n",
    "1. Zamień order_date na format daty. Upewnij się, że w rezultacie data będzie w formacie: rok-miesiąc-dzień;\n",
    "2. Sprawdź ile i jakie unikalne wartości znajdują się w kolumnie T-shirt category;\n",
    "3. Wyczyść kolumnę tshirt_category normalizując nazwy produktów. Upewnij się, że dla każdej kategorii funkcjonuje jedna nazwa, np. zamiast white i wh jest tylko jedna wersja white. Skorzystaj z klasy string i metody apply;\n",
    "4. Rozdziel kolumnę tshirt category na 3 kolumny: tshirt_type, która będzie mówiła o tym czy jest to koszulka, bluza czy coś innego, tshirt_size, która będzie informowała o rozmiarze koszulki, i tshirt_colour, która będzie informowała o kolorze. Skorzystaj z metody apply.\n",
    "5. Znajdź zamówienia złożone między 31 grudnia 2014 a 2 sierpnia 2016.\n"
   ],
   "metadata": {
    "collapsed": false,
    "pycharm": {
     "name": "#%% md\n"
    }
   }
  },
  {
   "cell_type": "code",
   "execution_count": 115,
   "outputs": [],
   "source": [
    "import pandas as pd"
   ],
   "metadata": {
    "collapsed": false,
    "pycharm": {
     "name": "#%%\n"
    }
   }
  },
  {
   "cell_type": "code",
   "execution_count": 116,
   "outputs": [],
   "source": [
    "data = pd.read_csv('orders.csv')"
   ],
   "metadata": {
    "collapsed": false,
    "pycharm": {
     "name": "#%%\n"
    }
   }
  },
  {
   "cell_type": "code",
   "execution_count": 117,
   "outputs": [
    {
     "name": "stdout",
     "output_type": "stream",
     "text": [
      "<class 'pandas.core.frame.DataFrame'>\n",
      "RangeIndex: 26552 entries, 0 to 26551\n",
      "Data columns (total 7 columns):\n",
      " #   Column           Non-Null Count  Dtype  \n",
      "---  ------           --------------  -----  \n",
      " 0   order_date       26552 non-null  object \n",
      " 1   pages_visited    26552 non-null  int64  \n",
      " 2   order_id         26552 non-null  object \n",
      " 3   customer_id      26552 non-null  object \n",
      " 4   tshirt_category  26552 non-null  object \n",
      " 5   tshirt_price     26552 non-null  float64\n",
      " 6   tshirt_quantity  26552 non-null  int64  \n",
      "dtypes: float64(1), int64(2), object(4)\n",
      "memory usage: 1.4+ MB\n"
     ]
    }
   ],
   "source": [
    "data.describe()\n",
    "data.head()\n",
    "data.info()"
   ],
   "metadata": {
    "collapsed": false,
    "pycharm": {
     "name": "#%%\n"
    }
   }
  },
  {
   "cell_type": "code",
   "execution_count": 118,
   "outputs": [],
   "source": [
    "data['order_date'] = pd.to_datetime(data['order_date'], format='%Y-%m-%d')"
   ],
   "metadata": {
    "collapsed": false,
    "pycharm": {
     "name": "#%%\n"
    }
   }
  },
  {
   "cell_type": "code",
   "execution_count": 119,
   "outputs": [
    {
     "data": {
      "text/plain": "array(['White T-Shirt M', 'White T-Shirt F', 'Wh Tshirt F',\n       'Black T-Shirt F', 'Hoodie', 'Black T-Shirt M', 'Tennis Shirt',\n       'Wh Tshirt M', 'Bl Tshirt F', 'Bl Tshirt M'], dtype=object)"
     },
     "execution_count": 119,
     "metadata": {},
     "output_type": "execute_result"
    }
   ],
   "source": [
    "data['tshirt_category'].unique()"
   ],
   "metadata": {
    "collapsed": false,
    "pycharm": {
     "name": "#%%\n"
    }
   }
  },
  {
   "cell_type": "code",
   "execution_count": 120,
   "outputs": [],
   "source": [
    "data['tshirt_category'] = data['tshirt_category'].apply(lambda a:a.replace(\"Wh \", \"White \"))\n",
    "data['tshirt_category'] = data['tshirt_category'].apply(lambda a:a.replace(\"Bl \",\"Black \"))\n",
    "data['tshirt_category'] = data['tshirt_category'].apply(lambda a:a.replace(\"Tshirt\",\"T-Shirt\"))"
   ],
   "metadata": {
    "collapsed": false,
    "pycharm": {
     "name": "#%%\n"
    }
   }
  },
  {
   "cell_type": "code",
   "execution_count": 121,
   "outputs": [
    {
     "name": "stderr",
     "output_type": "stream",
     "text": [
      "/var/folders/6t/7x1s1vxs6y9dtl5_577rnn7h0000gn/T/ipykernel_36740/4228665487.py:1: FutureWarning: In a future version of pandas all arguments of StringMethods.split except for the argument 'pat' will be keyword-only.\n",
      "  data[['tshirt_colour', 'tshirt_type', 'tshirt_size']] = data['tshirt_category'].str.split(' ', 3, expand=True)\n"
     ]
    }
   ],
   "source": [
    "data[['tshirt_colour', 'tshirt_type', 'tshirt_size']] = data['tshirt_category'].str.split(' ', 3, expand=True)\n",
    "data = data.drop('tshirt_category',axis='columns')"
   ],
   "metadata": {
    "collapsed": false,
    "pycharm": {
     "name": "#%%\n"
    }
   }
  },
  {
   "cell_type": "code",
   "execution_count": 122,
   "outputs": [
    {
     "data": {
      "text/plain": "      order_date  pages_visited         order_id customer_id  tshirt_price  \\\n4     2015-10-22             12  HTS-88ua9r-0001      88ua9r          20.0   \n5     2016-01-15              9  HTS-061311-0003      061311          17.5   \n12    2015-11-24             15  HTS-je57lh-0001      je57lh          23.0   \n13    2015-10-10              8  HTS-252675-0002      252675          20.0   \n15    2015-11-29             15  HTS-heb26i-0001      heb26i          17.5   \n...          ...            ...              ...         ...           ...   \n26460 2016-07-09             15  HTS-mu1tec-0001      mu1tec          18.0   \n26496 2016-06-02              2  HTS-5b4bg6-0001      5b4bg6          17.5   \n26513 2016-07-05             12  HTS-bt08zd-0001      bt08zd          18.0   \n26515 2016-07-27             17  HTS-gsc3f6-0001      gsc3f6          23.0   \n26540 2016-06-08              7  HTS-6ba0i0-0001      6ba0i0          20.0   \n\n       tshirt_quantity tshirt_colour tshirt_type tshirt_size  \n4                    1         White     T-Shirt           M  \n5                    4         Black     T-Shirt           F  \n12                   3        Hoodie        None        None  \n13                   3         White     T-Shirt           M  \n15                   1         Black     T-Shirt           F  \n...                ...           ...         ...         ...  \n26460                1         White     T-Shirt           F  \n26496                1         Black     T-Shirt           F  \n26513                1         White     T-Shirt           F  \n26515                1        Hoodie        None        None  \n26540                4         White     T-Shirt           M  \n\n[12594 rows x 9 columns]",
      "text/html": "<div>\n<style scoped>\n    .dataframe tbody tr th:only-of-type {\n        vertical-align: middle;\n    }\n\n    .dataframe tbody tr th {\n        vertical-align: top;\n    }\n\n    .dataframe thead th {\n        text-align: right;\n    }\n</style>\n<table border=\"1\" class=\"dataframe\">\n  <thead>\n    <tr style=\"text-align: right;\">\n      <th></th>\n      <th>order_date</th>\n      <th>pages_visited</th>\n      <th>order_id</th>\n      <th>customer_id</th>\n      <th>tshirt_price</th>\n      <th>tshirt_quantity</th>\n      <th>tshirt_colour</th>\n      <th>tshirt_type</th>\n      <th>tshirt_size</th>\n    </tr>\n  </thead>\n  <tbody>\n    <tr>\n      <th>4</th>\n      <td>2015-10-22</td>\n      <td>12</td>\n      <td>HTS-88ua9r-0001</td>\n      <td>88ua9r</td>\n      <td>20.0</td>\n      <td>1</td>\n      <td>White</td>\n      <td>T-Shirt</td>\n      <td>M</td>\n    </tr>\n    <tr>\n      <th>5</th>\n      <td>2016-01-15</td>\n      <td>9</td>\n      <td>HTS-061311-0003</td>\n      <td>061311</td>\n      <td>17.5</td>\n      <td>4</td>\n      <td>Black</td>\n      <td>T-Shirt</td>\n      <td>F</td>\n    </tr>\n    <tr>\n      <th>12</th>\n      <td>2015-11-24</td>\n      <td>15</td>\n      <td>HTS-je57lh-0001</td>\n      <td>je57lh</td>\n      <td>23.0</td>\n      <td>3</td>\n      <td>Hoodie</td>\n      <td>None</td>\n      <td>None</td>\n    </tr>\n    <tr>\n      <th>13</th>\n      <td>2015-10-10</td>\n      <td>8</td>\n      <td>HTS-252675-0002</td>\n      <td>252675</td>\n      <td>20.0</td>\n      <td>3</td>\n      <td>White</td>\n      <td>T-Shirt</td>\n      <td>M</td>\n    </tr>\n    <tr>\n      <th>15</th>\n      <td>2015-11-29</td>\n      <td>15</td>\n      <td>HTS-heb26i-0001</td>\n      <td>heb26i</td>\n      <td>17.5</td>\n      <td>1</td>\n      <td>Black</td>\n      <td>T-Shirt</td>\n      <td>F</td>\n    </tr>\n    <tr>\n      <th>...</th>\n      <td>...</td>\n      <td>...</td>\n      <td>...</td>\n      <td>...</td>\n      <td>...</td>\n      <td>...</td>\n      <td>...</td>\n      <td>...</td>\n      <td>...</td>\n    </tr>\n    <tr>\n      <th>26460</th>\n      <td>2016-07-09</td>\n      <td>15</td>\n      <td>HTS-mu1tec-0001</td>\n      <td>mu1tec</td>\n      <td>18.0</td>\n      <td>1</td>\n      <td>White</td>\n      <td>T-Shirt</td>\n      <td>F</td>\n    </tr>\n    <tr>\n      <th>26496</th>\n      <td>2016-06-02</td>\n      <td>2</td>\n      <td>HTS-5b4bg6-0001</td>\n      <td>5b4bg6</td>\n      <td>17.5</td>\n      <td>1</td>\n      <td>Black</td>\n      <td>T-Shirt</td>\n      <td>F</td>\n    </tr>\n    <tr>\n      <th>26513</th>\n      <td>2016-07-05</td>\n      <td>12</td>\n      <td>HTS-bt08zd-0001</td>\n      <td>bt08zd</td>\n      <td>18.0</td>\n      <td>1</td>\n      <td>White</td>\n      <td>T-Shirt</td>\n      <td>F</td>\n    </tr>\n    <tr>\n      <th>26515</th>\n      <td>2016-07-27</td>\n      <td>17</td>\n      <td>HTS-gsc3f6-0001</td>\n      <td>gsc3f6</td>\n      <td>23.0</td>\n      <td>1</td>\n      <td>Hoodie</td>\n      <td>None</td>\n      <td>None</td>\n    </tr>\n    <tr>\n      <th>26540</th>\n      <td>2016-06-08</td>\n      <td>7</td>\n      <td>HTS-6ba0i0-0001</td>\n      <td>6ba0i0</td>\n      <td>20.0</td>\n      <td>4</td>\n      <td>White</td>\n      <td>T-Shirt</td>\n      <td>M</td>\n    </tr>\n  </tbody>\n</table>\n<p>12594 rows × 9 columns</p>\n</div>"
     },
     "execution_count": 122,
     "metadata": {},
     "output_type": "execute_result"
    }
   ],
   "source": [
    "data.query(\"order_date > '2014-12-31' and order_date < '2016-08-02'\")"
   ],
   "metadata": {
    "collapsed": false,
    "pycharm": {
     "name": "#%%\n"
    }
   }
  },
  {
   "cell_type": "markdown",
   "source": [
    "Zadanie 2 (4 pkt)\n",
    "\n",
    "\n",
    "Wgraj plik customers.csv do ramki danych. \n",
    "\n",
    "Następnie:\n",
    "1. Wypisz kolumny;\n",
    "2. Porównaj rozmiar ramki z rozmiarem ramki w zadaniu 1;\n",
    "3. Zmień nazwę kolumny customerID  na customer_id upewniając się, że dane zmiana zostanie zapisana w pamięci dzięki jednemu z argumentów metody do zmiany nazwy kolumny;\n",
    "4. Połącz ramkę orders z ramką customers po kolumnie customer_id. Z której metody skorzystasz? Zostaw odpowiedź w komentarzu do zadania w kodzie (np. blok komentarzem ‘’’ ‘’’).\n"
   ],
   "metadata": {
    "id": "g0QB8rtHtGhT",
    "pycharm": {
     "name": "#%% md\n"
    }
   }
  },
  {
   "cell_type": "code",
   "source": [
    "data2 = pd.read_csv('customers.csv')\n",
    "data2.columns"
   ],
   "metadata": {
    "id": "_rfPFhLGtRm-",
    "pycharm": {
     "name": "#%%\n"
    }
   },
   "execution_count": 123,
   "outputs": [
    {
     "data": {
      "text/plain": "Index(['customerID', 'gender', 'birthdate', 'user_agent', 'ip_address',\n       'campaign'],\n      dtype='object')"
     },
     "execution_count": 123,
     "metadata": {},
     "output_type": "execute_result"
    }
   ]
  },
  {
   "cell_type": "code",
   "execution_count": 124,
   "outputs": [
    {
     "name": "stdout",
     "output_type": "stream",
     "text": [
      "Zamówienia: (26552, 9), klienci: (18766, 6)\n"
     ]
    }
   ],
   "source": [
    "print(f\"Zamówienia: {data.shape}, klienci: {data2.shape}\")"
   ],
   "metadata": {
    "collapsed": false,
    "pycharm": {
     "name": "#%%\n"
    }
   }
  },
  {
   "cell_type": "code",
   "execution_count": 125,
   "outputs": [],
   "source": [
    "data2.rename(columns={\"customerID\": \"customer_id\"}, inplace=True)"
   ],
   "metadata": {
    "collapsed": false,
    "pycharm": {
     "name": "#%%\n"
    }
   }
  },
  {
   "cell_type": "code",
   "execution_count": 126,
   "outputs": [
    {
     "data": {
      "text/plain": "      order_date  pages_visited         order_id customer_id  tshirt_price  \\\n0     2016-09-04              9  HTS-038040-0002      038040          20.0   \n1     2014-06-04             13  HTS-038040-0001      038040          18.0   \n2     2014-11-14             11  HTS-801797-0001      801797          20.0   \n3     2015-10-22             12  HTS-801797-0002      801797          20.0   \n4     2017-02-26             10  HTS-vft1eu-0003      vft1eu          18.0   \n...          ...            ...              ...         ...           ...   \n25877 2016-11-02             11  HTS-762534-0001      762534          23.0   \n25878 2016-11-16              4  HTS-hrpv38-0001      hrpv38          20.0   \n25879 2014-07-12             16  HTS-978569-0001      978569          23.0   \n25880 2016-08-05             11  HTS-k0batl-0001      k0batl          20.0   \n25881 2017-03-13             11  HTS-200121-0001      200121          24.0   \n\n       tshirt_quantity tshirt_colour tshirt_type tshirt_size gender  \\\n0                    1         White     T-Shirt           M      F   \n1                    1         White     T-Shirt           F      F   \n2                    1         White     T-Shirt           M      M   \n3                    2         White     T-Shirt           M      M   \n4                    3         White     T-Shirt           F      F   \n...                ...           ...         ...         ...    ...   \n25877                1        Hoodie        None        None      M   \n25878                3         White     T-Shirt           M      F   \n25879                1        Hoodie        None        None      M   \n25880                2         White     T-Shirt           M      M   \n25881                1        Tennis       Shirt        None      F   \n\n        birthdate                                         user_agent  \\\n0      1946/12/21  Mozilla/5.0 (Windows NT 10.0; WOW64) AppleWebK...   \n1      1946/12/21  Mozilla/5.0 (Windows NT 10.0; WOW64) AppleWebK...   \n2       1956/7/19  Mozilla/5.0 (Windows NT 10.0; Win64; x64) Appl...   \n3       1956/7/19  Mozilla/5.0 (Windows NT 10.0; Win64; x64) Appl...   \n4       1969/6/27  Mozilla/5.0 (Macintosh; Intel Mac OS X 10_12_3...   \n...           ...                                                ...   \n25877   1963/8/24  Mozilla/5.0 (Windows NT 10.0; WOW64) AppleWebK...   \n25878   1951/8/15  Mozilla/5.0 (Windows NT 6.1; WOW64) AppleWebKi...   \n25879  1986/11/19  Mozilla/5.0 (Windows NT 10.0; WOW64) AppleWebK...   \n25880    1959/2/6  Mozilla/5.0 (Macintosh; Intel Mac OS X 10_12_3...   \n25881   1969/8/22  Mozilla/5.0 (Macintosh; Intel Mac OS X 10_12_3...   \n\n            ip_address  campaign  \n0        67.74.254.174     False  \n1        67.74.254.174     False  \n2      137.155.219.158     False  \n3      137.155.219.158     False  \n4         53.115.6.106      True  \n...                ...       ...  \n25877     58.3.164.178      True  \n25878  118.210.235.250      True  \n25879    112.172.97.50     False  \n25880    174.226.65.20     False  \n25881     56.182.53.24     False  \n\n[25882 rows x 14 columns]",
      "text/html": "<div>\n<style scoped>\n    .dataframe tbody tr th:only-of-type {\n        vertical-align: middle;\n    }\n\n    .dataframe tbody tr th {\n        vertical-align: top;\n    }\n\n    .dataframe thead th {\n        text-align: right;\n    }\n</style>\n<table border=\"1\" class=\"dataframe\">\n  <thead>\n    <tr style=\"text-align: right;\">\n      <th></th>\n      <th>order_date</th>\n      <th>pages_visited</th>\n      <th>order_id</th>\n      <th>customer_id</th>\n      <th>tshirt_price</th>\n      <th>tshirt_quantity</th>\n      <th>tshirt_colour</th>\n      <th>tshirt_type</th>\n      <th>tshirt_size</th>\n      <th>gender</th>\n      <th>birthdate</th>\n      <th>user_agent</th>\n      <th>ip_address</th>\n      <th>campaign</th>\n    </tr>\n  </thead>\n  <tbody>\n    <tr>\n      <th>0</th>\n      <td>2016-09-04</td>\n      <td>9</td>\n      <td>HTS-038040-0002</td>\n      <td>038040</td>\n      <td>20.0</td>\n      <td>1</td>\n      <td>White</td>\n      <td>T-Shirt</td>\n      <td>M</td>\n      <td>F</td>\n      <td>1946/12/21</td>\n      <td>Mozilla/5.0 (Windows NT 10.0; WOW64) AppleWebK...</td>\n      <td>67.74.254.174</td>\n      <td>False</td>\n    </tr>\n    <tr>\n      <th>1</th>\n      <td>2014-06-04</td>\n      <td>13</td>\n      <td>HTS-038040-0001</td>\n      <td>038040</td>\n      <td>18.0</td>\n      <td>1</td>\n      <td>White</td>\n      <td>T-Shirt</td>\n      <td>F</td>\n      <td>F</td>\n      <td>1946/12/21</td>\n      <td>Mozilla/5.0 (Windows NT 10.0; WOW64) AppleWebK...</td>\n      <td>67.74.254.174</td>\n      <td>False</td>\n    </tr>\n    <tr>\n      <th>2</th>\n      <td>2014-11-14</td>\n      <td>11</td>\n      <td>HTS-801797-0001</td>\n      <td>801797</td>\n      <td>20.0</td>\n      <td>1</td>\n      <td>White</td>\n      <td>T-Shirt</td>\n      <td>M</td>\n      <td>M</td>\n      <td>1956/7/19</td>\n      <td>Mozilla/5.0 (Windows NT 10.0; Win64; x64) Appl...</td>\n      <td>137.155.219.158</td>\n      <td>False</td>\n    </tr>\n    <tr>\n      <th>3</th>\n      <td>2015-10-22</td>\n      <td>12</td>\n      <td>HTS-801797-0002</td>\n      <td>801797</td>\n      <td>20.0</td>\n      <td>2</td>\n      <td>White</td>\n      <td>T-Shirt</td>\n      <td>M</td>\n      <td>M</td>\n      <td>1956/7/19</td>\n      <td>Mozilla/5.0 (Windows NT 10.0; Win64; x64) Appl...</td>\n      <td>137.155.219.158</td>\n      <td>False</td>\n    </tr>\n    <tr>\n      <th>4</th>\n      <td>2017-02-26</td>\n      <td>10</td>\n      <td>HTS-vft1eu-0003</td>\n      <td>vft1eu</td>\n      <td>18.0</td>\n      <td>3</td>\n      <td>White</td>\n      <td>T-Shirt</td>\n      <td>F</td>\n      <td>F</td>\n      <td>1969/6/27</td>\n      <td>Mozilla/5.0 (Macintosh; Intel Mac OS X 10_12_3...</td>\n      <td>53.115.6.106</td>\n      <td>True</td>\n    </tr>\n    <tr>\n      <th>...</th>\n      <td>...</td>\n      <td>...</td>\n      <td>...</td>\n      <td>...</td>\n      <td>...</td>\n      <td>...</td>\n      <td>...</td>\n      <td>...</td>\n      <td>...</td>\n      <td>...</td>\n      <td>...</td>\n      <td>...</td>\n      <td>...</td>\n      <td>...</td>\n    </tr>\n    <tr>\n      <th>25877</th>\n      <td>2016-11-02</td>\n      <td>11</td>\n      <td>HTS-762534-0001</td>\n      <td>762534</td>\n      <td>23.0</td>\n      <td>1</td>\n      <td>Hoodie</td>\n      <td>None</td>\n      <td>None</td>\n      <td>M</td>\n      <td>1963/8/24</td>\n      <td>Mozilla/5.0 (Windows NT 10.0; WOW64) AppleWebK...</td>\n      <td>58.3.164.178</td>\n      <td>True</td>\n    </tr>\n    <tr>\n      <th>25878</th>\n      <td>2016-11-16</td>\n      <td>4</td>\n      <td>HTS-hrpv38-0001</td>\n      <td>hrpv38</td>\n      <td>20.0</td>\n      <td>3</td>\n      <td>White</td>\n      <td>T-Shirt</td>\n      <td>M</td>\n      <td>F</td>\n      <td>1951/8/15</td>\n      <td>Mozilla/5.0 (Windows NT 6.1; WOW64) AppleWebKi...</td>\n      <td>118.210.235.250</td>\n      <td>True</td>\n    </tr>\n    <tr>\n      <th>25879</th>\n      <td>2014-07-12</td>\n      <td>16</td>\n      <td>HTS-978569-0001</td>\n      <td>978569</td>\n      <td>23.0</td>\n      <td>1</td>\n      <td>Hoodie</td>\n      <td>None</td>\n      <td>None</td>\n      <td>M</td>\n      <td>1986/11/19</td>\n      <td>Mozilla/5.0 (Windows NT 10.0; WOW64) AppleWebK...</td>\n      <td>112.172.97.50</td>\n      <td>False</td>\n    </tr>\n    <tr>\n      <th>25880</th>\n      <td>2016-08-05</td>\n      <td>11</td>\n      <td>HTS-k0batl-0001</td>\n      <td>k0batl</td>\n      <td>20.0</td>\n      <td>2</td>\n      <td>White</td>\n      <td>T-Shirt</td>\n      <td>M</td>\n      <td>M</td>\n      <td>1959/2/6</td>\n      <td>Mozilla/5.0 (Macintosh; Intel Mac OS X 10_12_3...</td>\n      <td>174.226.65.20</td>\n      <td>False</td>\n    </tr>\n    <tr>\n      <th>25881</th>\n      <td>2017-03-13</td>\n      <td>11</td>\n      <td>HTS-200121-0001</td>\n      <td>200121</td>\n      <td>24.0</td>\n      <td>1</td>\n      <td>Tennis</td>\n      <td>Shirt</td>\n      <td>None</td>\n      <td>F</td>\n      <td>1969/8/22</td>\n      <td>Mozilla/5.0 (Macintosh; Intel Mac OS X 10_12_3...</td>\n      <td>56.182.53.24</td>\n      <td>False</td>\n    </tr>\n  </tbody>\n</table>\n<p>25882 rows × 14 columns</p>\n</div>"
     },
     "execution_count": 126,
     "metadata": {},
     "output_type": "execute_result"
    }
   ],
   "source": [
    "joined = pd.merge(data, data2, on='customer_id', how='inner')\n",
    "joined\n",
    "# Metoda merge"
   ],
   "metadata": {
    "collapsed": false,
    "pycharm": {
     "name": "#%%\n"
    }
   }
  },
  {
   "cell_type": "markdown",
   "source": [
    "Zadanie 3 (1 pkt)\n",
    "\n",
    "Nową ramkę (połączenie orders i customers) zapisz do pliku csv, ale zapisz bez kolumny z indeksem.\n"
   ],
   "metadata": {
    "collapsed": false,
    "pycharm": {
     "name": "#%% md\n"
    }
   }
  },
  {
   "cell_type": "code",
   "execution_count": 127,
   "outputs": [],
   "source": [
    "joined.to_csv('orders_and_customers.csv',index=False)"
   ],
   "metadata": {
    "collapsed": false,
    "pycharm": {
     "name": "#%%\n"
    }
   }
  }
 ]
}
